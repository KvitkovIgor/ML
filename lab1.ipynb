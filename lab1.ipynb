{
  "nbformat": 4,
  "nbformat_minor": 0,
  "metadata": {
    "colab": {
      "name": "lab1.ipynb",
      "provenance": [],
      "collapsed_sections": []
    },
    "kernelspec": {
      "display_name": "Python 3",
      "language": "python",
      "name": "python3"
    },
    "language_info": {
      "codemirror_mode": {
        "name": "ipython",
        "version": 3
      },
      "file_extension": ".py",
      "mimetype": "text/x-python",
      "name": "python",
      "nbconvert_exporter": "python",
      "pygments_lexer": "ipython3",
      "version": "3.7.4"
    }
  },
  "cells": [
    {
      "cell_type": "markdown",
      "metadata": {
        "id": "BsNwjQDRfmLY"
      },
      "source": [
        "# Задание 1"
      ]
    },
    {
      "cell_type": "markdown",
      "metadata": {
        "id": "wu6r1-s7fmLe"
      },
      "source": [
        "---"
      ]
    },
    {
      "cell_type": "markdown",
      "metadata": {
        "id": "zxRIdPO9gYyX"
      },
      "source": [
        "Напишите программу, которая будет решать систему линейных уравнений вида:\n",
        "\n",
        "\\begin{matrix} a_{11}x+a_{12}y=b_{1}&(1) \\\\ a_{21}x+a_{22}y=b_{2} &(2) \\end{matrix}\n",
        "​\t\n",
        "На вход программа должна принимать 2 строки.\n",
        "\n",
        "Каждая строка содержит 3 действительных числа через пробел: коэффициенты a и b.\n",
        "\n",
        "На выходе программа должна выдавать значения x и y в одну строку через пробел.\n",
        " \n",
        "\n",
        "Примечание 1. Для разделения строки на отдельные элементы используйте функцию split()\n",
        "\n",
        "Примечание 2. В качестве разделителя между целой и дробной частью используйте точку, например 0.2"
      ]
    },
    {
      "cell_type": "code",
      "metadata": {
        "colab": {
          "base_uri": "https://localhost:8080/"
        },
        "id": "6sxlcLbVlrjl",
        "outputId": "0eea3d38-2bec-42bc-9b32-29b8e1eac8e1"
      },
      "source": [
        "import numpy as np\n",
        "from decimal import Decimal\n",
        "\n",
        "ur1 = input().split(\" \")\n",
        "ur2 = input().split(\" \")\n",
        "\n",
        "a = [[float(ur1[0]), float(ur1[1])], [float(ur2[0]), float(ur2[1])]]\n",
        "b = [[float(ur1[2])], [float(ur2[2])]]\n",
        "x = np.linalg.inv(a).dot(b)\n",
        "\n",
        "print(\"{:.5f}\".format(x[0][0]) + \" \" + \"{:.5f}\".format(x[1][0]))"
      ],
      "execution_count": null,
      "outputs": [
        {
          "output_type": "stream",
          "name": "stdout",
          "text": [
            "-1 2 3\n",
            "2 3 4\n",
            "-0.14286 1.42857\n"
          ]
        }
      ]
    },
    {
      "cell_type": "markdown",
      "metadata": {
        "id": "wLoVDMQnfmOv"
      },
      "source": [
        "# Задание 2"
      ]
    },
    {
      "cell_type": "markdown",
      "metadata": {
        "id": "6bmt_YF3fmOw"
      },
      "source": [
        "Напишите функцию `decorate_matrix`, которая получает на вход одно целое число больше единицы. Функция должна возвращать матрицу n на n, у которой на границах стоят единицы, а на всех остальных позициях(если остались позиции не на границах) стоят нули.\n",
        "\n",
        "Нужно сделать без использования  циклов.\n",
        "\n",
        "```\n",
        "# ожидаемый резальтат для аргумента 5\n",
        "array([[1., 1., 1., 1., 1.],\n",
        "[1., 0., 0., 0., 1.],\n",
        "[1., 0., 0., 0., 1.],\n",
        "[1., 0., 0., 0., 1.],\n",
        "[1., 1., 1., 1., 1.]])\n",
        "```\n",
        "\n"
      ]
    },
    {
      "cell_type": "code",
      "metadata": {
        "id": "TUcMCjAoqhqM",
        "colab": {
          "base_uri": "https://localhost:8080/"
        },
        "outputId": "879fadf3-906a-4321-a801-47c0b4237cd7"
      },
      "source": [
        "import numpy as np\n",
        "\n",
        "def decorate_matrix(n):\n",
        "    x = np.ones((1, n), dtype=np.float64)\n",
        "    y = np.zeros((n, 1), dtype=np.float64)\n",
        "    y[0][0] = 1\n",
        "    y[n - 1][0] = 1\n",
        "    x[0][0] = 0\n",
        "    x[0][n - 1] = 0\n",
        "    z = y.dot(x).transpose()\n",
        "    z[0] = np.ones(n, dtype=np.float64)\n",
        "    z[n - 1] = np.ones((1, n), dtype=np.float64)\n",
        "    return 'array({})'.format(',\\n'.join(map(str, z))).replace(' ', ', ')\n",
        "\n",
        "n = int(input())\n",
        "\n",
        "print(decorate_matrix(n))\n"
      ],
      "execution_count": null,
      "outputs": [
        {
          "output_type": "stream",
          "name": "stdout",
          "text": [
            "6\n",
            "array([1., 1., 1., 1., 1., 1.],\n",
            "[1., 0., 0., 0., 0., 1.],\n",
            "[1., 0., 0., 0., 0., 1.],\n",
            "[1., 0., 0., 0., 0., 1.],\n",
            "[1., 0., 0., 0., 0., 1.],\n",
            "[1., 1., 1., 1., 1., 1.])\n"
          ]
        }
      ]
    },
    {
      "cell_type": "markdown",
      "metadata": {
        "id": "75sxny1zSCbl"
      },
      "source": [
        "# Задание 3"
      ]
    },
    {
      "cell_type": "markdown",
      "metadata": {
        "id": "2Xq1tBBAS5UJ"
      },
      "source": [
        "1) реализуйте 2 функции:\n",
        "\n",
        "$f(x) = (x+a)^2 - b$ \n",
        "\n",
        "$g(x) = |f(x)|$\n",
        "\n",
        "2) Найдите аргументы, при которых достигается минимум функций $f(x)$ и $g(x)$\n",
        "\n",
        "Пример. \n",
        "Входные значение: $a=3$ и $b=4$\n",
        "\n",
        "Выходные значения:\n",
        "\n",
        "`-3.0 -1.0`"
      ]
    },
    {
      "cell_type": "code",
      "metadata": {
        "colab": {
          "base_uri": "https://localhost:8080/"
        },
        "id": "zBNhzhZU2FaK",
        "outputId": "d9c7c2c2-f818-40b0-cd8d-7b1cc3b6358d"
      },
      "source": [
        "bimport numpy as np\n",
        "import math\n",
        "from decimal import Decimal\n",
        "\n",
        "a = float(input().split(\" \")[2])\n",
        "b = float(input().split(\" \")[2])\n",
        "min = float(a * 2.0 / -2)\n",
        "if ((min + a)**2 - b >= 0):\n",
        "    print(\"{:.5f}\".format(min), \"{:.5f}\".format(min))\n",
        "else:\n",
        "    print(\"{:.5f}\".format(min), \"{:.5f}\".format(math.sqrt(b) - a))"
      ],
      "execution_count": null,
      "outputs": [
        {
          "output_type": "stream",
          "name": "stdout",
          "text": [
            "a = 3\n",
            "b = 4\n",
            "-3.00000 -1.00000\n"
          ]
        }
      ]
    },
    {
      "cell_type": "markdown",
      "metadata": {
        "id": "efml9GzISC9Q"
      },
      "source": [
        "# Задание 4"
      ]
    },
    {
      "cell_type": "markdown",
      "metadata": {
        "id": "SDZvKcsTVbAW"
      },
      "source": [
        "Постройте графики для функций из предыдущего задания и отметьте другим цветом на графиках точки найденных минимумов."
      ]
    },
    {
      "cell_type": "code",
      "metadata": {
        "id": "6DDLrZnFjLSP"
      },
      "source": [
        ""
      ],
      "execution_count": null,
      "outputs": []
    },
    {
      "cell_type": "code",
      "metadata": {
        "colab": {
          "base_uri": "https://localhost:8080/",
          "height": 300
        },
        "id": "VmDRjBEm-7HU",
        "outputId": "2dae76d6-fcff-48fe-c5dc-e39d74e379a1"
      },
      "source": [
        "import numpy as np\n",
        "import matplotlib.pyplot as plt\n",
        "import math\n",
        "\n",
        "a = float(input().split(\" \")[2])\n",
        "b = float(input().split(\" \")[2])\n",
        "\n",
        "min = float(a * 2.0 / -2)\n",
        "min1 = min\n",
        "min2 = min\n",
        "if ((min + a)**2 - b < 0):\n",
        "    min1 = (math.sqrt(b) - a)\n",
        "    min2 = (- a - math.sqrt(b))\n",
        "\n",
        "y = lambda x: np.square(x + a) - b\n",
        "y1 = lambda x: np.abs(np.square(x + a) - b)\n",
        "\n",
        "fig = plt.figure(1)\n",
        "x = np.linspace(-10 - (math.fabs(min1) + math.fabs(min2)) / 2, 10 + (math.fabs(min1) + math.fabs(min)) / 2, 100)\n",
        "plt.subplot(2, 1, 1)\n",
        "plt.grid(True)\n",
        "plt.plot(x, y(x))\n",
        "plt.plot(min, (min + a)**2 - b, 'bo', markersize=6)\n",
        "plt.subplot(2, 1, 2)\n",
        "plt.plot(x,y1(x))\n",
        "plt.grid(True)\n",
        "plt.plot(min1, math.fabs((min1 + a)**2 - b), 'ro', markersize=6)\n",
        "plt.plot(min2, math.fabs((min2 + a)**2 - b), 'ro', markersize=6)\n",
        "\n",
        "plt.show()"
      ],
      "execution_count": null,
      "outputs": [
        {
          "name": "stdout",
          "output_type": "stream",
          "text": [
            "a = 3\n",
            "b = 4\n"
          ]
        },
        {
          "output_type": "display_data",
          "data": {
            "image/png": "[encoded data removed]",
            "text/plain": [
              "<Figure size 432x288 with 2 Axes>"
            ]
          },
          "metadata": {
            "needs_background": "light"
          }
        }
      ]
    },
    {
      "cell_type": "markdown",
      "metadata": {
        "id": "mrby3EfiSDKJ"
      },
      "source": [
        "# Задание 5"
      ]
    },
    {
      "cell_type": "markdown",
      "metadata": {
        "id": "J6AZ8785VkQd"
      },
      "source": [
        "1000 человек бросают монетку. Каждый бросил 10 раз подряд.\n",
        "\n",
        " 1. Какова вероятность того, что хотя бы у одного человека монетка выпала 10 раз подряд той же самой стороной (орлом или решкой)? \n",
        " 2. Какова вероятность того, что хотя бы у одного человека монетка выпала 8 раз подряд той же самой стороной (орлом или решкой)? \n",
        " 3. Какова вероятность того, что ровно у троих человек из 1000 монетка выпала 10 раз подряд той же самой стороной (орлом или решкой)?"
      ]
    },
    {
      "cell_type": "code",
      "metadata": {
        "colab": {
          "background_save": true,
          "base_uri": "https://localhost:8080/"
        },
        "id": "t5T0iYpPIbZD",
        "outputId": "13437e3e-8055-4241-a0ba-3219f615e90e"
      },
      "source": [
        "import math\n",
        "import numpy as np\n",
        "import random\n",
        "\n",
        "testcounter = 100000\n",
        "sum1 = 0\n",
        "\n",
        "for i in range(testcounter):\n",
        "    for i in range(1000):\n",
        "        x = random.randint(0, 1)\n",
        "        y = 1\n",
        "        for j in range(9):\n",
        "            if random.randint(0, 1) == x:\n",
        "                y += 1\n",
        "        if y == 10:\n",
        "            sum1 += 1\n",
        "            break\n",
        "\n",
        "print(sum1 / float(testcounter))\n",
        "\n",
        "sum2 = 0\n",
        "\n",
        "for i in range(testcounter):\n",
        "    for i in range(1000):\n",
        "        x = random.randint(0, 1)\n",
        "        y = 1\n",
        "        for j in range(9):\n",
        "            if random.randint(0, 1) == x:\n",
        "                y += 1\n",
        "        if y >= 8:\n",
        "            sum2 += 1\n",
        "            break\n",
        "\n",
        "print(sum2 / float(testcounter))\n",
        "\n",
        "sum3 = 0\n",
        "sum3full = 0\n",
        "\n",
        "for i in range(testcounter):\n",
        "    sum3 = 0\n",
        "    for i in range(1000):\n",
        "        x = random.randint(0, 1)\n",
        "        y = 1\n",
        "        for j in range(9):\n",
        "            if random.randint(0, 1) == x:\n",
        "                y += 1\n",
        "        if y == 10:\n",
        "            sum3 += 1\n",
        "    if sum3 == 3:\n",
        "        sum3full += 1\n",
        "\n",
        "print(sum3full / float(testcounter))"
      ],
      "execution_count": null,
      "outputs": [
        {
          "name": "stdout",
          "output_type": "stream",
          "text": [
            "0.85868\n",
            "1.0\n",
            "0.17587\n"
          ]
        }
      ]
    }
  ]
}