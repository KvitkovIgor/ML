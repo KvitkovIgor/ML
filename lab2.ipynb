{
  "nbformat": 4,
  "nbformat_minor": 0,
  "metadata": {
    "hide_input": false,
    "kernelspec": {
      "display_name": "Python 3",
      "language": "python",
      "name": "python3"
    },
    "language_info": {
      "codemirror_mode": {
        "name": "ipython",
        "version": 3
      },
      "file_extension": ".py",
      "mimetype": "text/x-python",
      "name": "python",
      "nbconvert_exporter": "python",
      "pygments_lexer": "ipython3",
      "version": "3.7.1"
    },
    "toc": {
      "base_numbering": 1,
      "nav_menu": {},
      "number_sections": true,
      "sideBar": true,
      "skip_h1_title": false,
      "title_cell": "Table of Contents",
      "title_sidebar": "Contents",
      "toc_cell": true,
      "toc_position": {},
      "toc_section_display": true,
      "toc_window_display": false
    },
    "varInspector": {
      "cols": {
        "lenName": 16,
        "lenType": 16,
        "lenVar": 40
      },
      "kernels_config": {
        "python": {
          "delete_cmd_postfix": "",
          "delete_cmd_prefix": "del ",
          "library": "var_list.py",
          "varRefreshCmd": "print(var_dic_list())"
        },
        "r": {
          "delete_cmd_postfix": ") ",
          "delete_cmd_prefix": "rm(",
          "library": "var_list.r",
          "varRefreshCmd": "cat(var_dic_list()) "
        }
      },
      "types_to_exclude": [
        "module",
        "function",
        "builtin_function_or_method",
        "instance",
        "_Feature"
      ],
      "window_display": false
    },
    "colab": {
      "name": "lab2.ipynb",
      "provenance": [],
      "collapsed_sections": [],
      "toc_visible": true
    }
  },
  "cells": [
    {
      "cell_type": "code",
      "metadata": {
        "ExecuteTime": {
          "end_time": "2020-04-23T10:16:05.965275Z",
          "start_time": "2020-04-23T10:16:05.312704Z"
        },
        "id": "bZ7J0si68JdT"
      },
      "source": [
        "import pandas as pd\n",
        "import numpy as np\n",
        "from pydrive.auth import GoogleAuth\n",
        "from pydrive.drive import GoogleDrive\n",
        "from google.colab import auth\n",
        "from oauth2client.client import GoogleCredentials\n",
        "from pydrive.drive import GoogleDrive\n",
        "auth.authenticate_user()\n",
        "gauth = GoogleAuth()\n",
        "gauth.credentials = GoogleCredentials.get_application_default()\n",
        "drive = GoogleDrive(gauth)\n",
        "downloaded = drive.CreateFile({'id':\"1lEpoRKczv5EvZhff9O2I-0JkdHnbe_Mq\"})   # замените id на id своего файла\n",
        "downloaded.GetContentFile('transactions.csv')\n",
        "transactions = pd.read_csv('transactions.csv', delimiter=',', nrows = 1000000)\n",
        "downloaded = drive.CreateFile({'id':\"1EP3KrATWS1I_qYdpRhYnSDl-eoBiOBQc\"})   # замените id на id своего файла\n",
        "downloaded.GetContentFile('tr_types.csv')\n",
        "tr_types = pd.read_csv('tr_types.csv', delimiter=';')\n",
        "downloaded = drive.CreateFile({'id':\"10J8RzMIhoYHiad49r-oWNMAk-V5lo3OE\"})   # замените id на id своего файла\n",
        "downloaded.GetContentFile('tr_mcc_codes.csv')\n",
        "tr_mcc_codes = pd.read_csv('tr_mcc_codes.csv', delimiter=';')\n",
        "downloaded = drive.CreateFile({'id':\"1FG1fopcmvMZ7GBaBOqQipccSeFoMUvNT\"})   # замените id на id своего файла\n",
        "downloaded.GetContentFile('gender_train.csv')\n",
        "gender_train = pd.read_csv('gender_train.csv', delimiter=',')"
      ],
      "execution_count": null,
      "outputs": []
    },
    {
      "cell_type": "markdown",
      "metadata": {
        "id": "xjvL0IIG8Jd0"
      },
      "source": [
        "## Задание 0\n"
      ]
    },
    {
      "cell_type": "markdown",
      "metadata": {
        "id": "yaSxXHvxO0qo"
      },
      "source": [
        "Для всех  заданий будем использовать обезличенные транзакционные банковские данные. Для этого считайте в переменные **tr_mcc_codes, tr_types, transactions и gender_train** из одноимённых таблиц из папки [data](https://drive.google.com/drive/folders/1YAMe7MiTxA-RSSd8Ex2p-L0Dspe6Gs4L). \n",
        "\n",
        "Для таблицы transactions используйте только первые n=1000000 строк. При чтении файлов обратите внимание на разделители внутри каждого из файлов - они могут различаться!"
      ]
    },
    {
      "cell_type": "markdown",
      "metadata": {
        "id": "oP3lX9xC8Jd8"
      },
      "source": [
        "###  Описание данных\n",
        "#### Таблица ```transactions.csv```\n",
        "##### Описание\n",
        "Таблица содержит историю транзакций клиентов банка за один год и три месяца.\n",
        "\n",
        "##### Формат данных\n",
        "\n",
        "```\n",
        "customer_id,tr_datetime,mcc_code,tr_type,amount,term_id\n",
        "111111,15 01:40:52,1111,1000,-5224,111111\n",
        "111112,15 15:18:32,3333,2000,-100,11122233\n",
        "...\n",
        "```\n",
        "##### Описание полей\n",
        "\n",
        " - ```customer_id``` — идентификатор клиента;\n",
        " - ```tr_datetime``` — день и время совершения транзакции (дни нумеруются с начала данных);\n",
        " - ```mcc_code``` — mcc-код транзакции;\n",
        " - ```tr_type``` — тип транзакции;\n",
        " - ```amount``` — сумма транзакции в условных единицах со знаком; ```+``` — начисление средств клиенту (приходная транзакция), ```-``` — списание средств (расходная транзакция);\n",
        " - ```term_id``` — идентификатор терминала;\n",
        "\n",
        "\n",
        "#### Таблица ```gender_train.csv```\n",
        "\n",
        "##### Описание\n",
        "Данная таблица содержит информацию по полу для части клиентов, для которых он известен. Для остальных клиентов пол неизвестен.\n",
        "\n",
        "##### Формат данных\n",
        "```\n",
        "customer_id,gender\n",
        "111111,0\n",
        "111112,1\n",
        "...\n",
        "```\n",
        "\n",
        "##### Описание полей\n",
        " - ```customer_id``` — идентификатор клиента;\n",
        " - ```gender``` — пол клиента;\n",
        "\n",
        "### Таблица ```tr_mcc_codes.csv```\n",
        "\n",
        "##### Описание\n",
        "Данная таблица содержит описание mcc-кодов транзакций.\n",
        "\n",
        "##### Формат данных\n",
        "```\n",
        "mcc_code;mcc_description\n",
        "1000;словесное описание mcc-кода 1000\n",
        "2000;словесное описание mcc-кода 2000\n",
        "...\n",
        "```\n",
        "\n",
        "##### Описание полей\n",
        " - ```mcc_code``` – mcc-код транзакции;\n",
        " - ```mcc_description``` — описание mcc-кода транзакции.\n",
        "\n",
        "#### Таблица ```tr_types.csv```\n",
        "\n",
        "##### Описание\n",
        "Данная таблица содержит описание типов транзакций.\n",
        "\n",
        "##### Формат данных\n",
        "```\n",
        "tr_type;tr_description\n",
        "1000;словесное описание типа транзакции 1000\n",
        "2000;словесное описание типа транзакции 2000\n",
        "...\n",
        "```\n",
        "\n",
        "##### Описание полей\n",
        " - ```tr_type``` – тип транзакции;\n",
        " - ```tr_description``` — описание типа транзакции;"
      ]
    },
    {
      "cell_type": "code",
      "metadata": {
        "colab": {
          "base_uri": "https://localhost:8080/"
        },
        "id": "NB63D4K77vCi",
        "outputId": "39fb277f-2645-4e62-f995-4a34bbbf33ba"
      },
      "source": [
        "print(tr_types.head(10))\n",
        "print(tr_mcc_codes.head(10))\n",
        "print(transactions.head(10))\n",
        "print(gender_train.head(10))"
      ],
      "execution_count": null,
      "outputs": [
        {
          "output_type": "stream",
          "name": "stdout",
          "text": [
            "   tr_type                                     tr_description\n",
            "0     3200  Плата за предоставление услуг посредством моби...\n",
            "1     3210  Плата за предоставление отчета по счету карты ...\n",
            "2     3800  Плата за обслуживание банковской карты (за пер...\n",
            "3     4000            Плата за получение наличных в Сбербанке\n",
            "4     4001  Плата за получение наличных в Сбербанке (в дру...\n",
            "5     4010        Плата за получение наличных в АТМ Сбербанка\n",
            "6     4011  Плата за получение наличных в АТМ Сбербанка (в...\n",
            "7     4020  Плата за получение наличных через POS в Сбербанке\n",
            "8     4021  Плата за получение наличных через POS в Сберба...\n",
            "9     4030  Плата за взнос наличных через АТМ (в своем тер...\n",
            "   mcc_code                                    mcc_description\n",
            "0       742                                Ветеринарные услуги\n",
            "1      1711  Генеральные подрядчики по вентиляции, теплосна...\n",
            "2      1731                        Подрядчики по электричеству\n",
            "3      1799  Подрядчики, специализированная торговля — нигд...\n",
            "4      2741           Разнообразные издательства/печатное дело\n",
            "5      3000                            Авиалинии, авиакомпании\n",
            "6      3351                    Агентства по аренде автомобилей\n",
            "7      3501                     Жилье — отели, мотели, курорты\n",
            "8      4111  Транспортировка — пригородные и локальные сезо...\n",
            "9      4112                    Пассажирские железные перевозки\n",
            "   customer_id tr_datetime  mcc_code  tr_type    amount term_id\n",
            "0     39026145  0 10:23:26      4814     1030  -2245.92     NaN\n",
            "1     39026145  1 10:19:29      6011     7010  56147.89     NaN\n",
            "2     39026145  1 10:20:56      4829     2330 -56147.89     NaN\n",
            "3     39026145  1 10:39:54      5499     1010  -1392.47     NaN\n",
            "4     39026145  2 15:33:42      5499     1010   -920.83     NaN\n",
            "5     39026145  2 15:53:49      5541     1010 -14643.37     NaN\n",
            "6     39026145  3 15:29:08      5499     1010  -1010.66     NaN\n",
            "7     39026145  4 12:11:57      5200     1010  -2829.85     NaN\n",
            "8     39026145  5 15:19:19      5499     1010   -628.86     NaN\n",
            "9     39026145  6 07:08:31      4814     1030  -5614.79     NaN\n",
            "   customer_id  gender\n",
            "0     10928546       1\n",
            "1     69348468       1\n",
            "2     61009479       0\n",
            "3     74045822       0\n",
            "4     27979606       1\n",
            "5     44160317       1\n",
            "6     36008593       0\n",
            "7     48111232       1\n",
            "8     82609845       0\n",
            "9     60046355       1\n"
          ]
        }
      ]
    },
    {
      "cell_type": "markdown",
      "metadata": {
        "id": "04CYsBKz8JeB"
      },
      "source": [
        "\n",
        "Задания 1-4 делаются без использования merge!\n",
        "\n",
        "## Задание 1\n",
        "\n"
      ]
    },
    {
      "cell_type": "markdown",
      "metadata": {
        "id": "1hcrfwsYN_Yz"
      },
      "source": [
        "1. Для столбца tr_type датафрейма transactions выберите произвольные 1000 строк с помощью метода sample\n",
        "2. В полученной на предыдущем этапе подвыборке найдите долю транзакций (стобец tr_description в датасете tr_types), в которой содержится подстрока 'POS' или 'ATM'\n"
      ]
    },
    {
      "cell_type": "code",
      "metadata": {
        "colab": {
          "base_uri": "https://localhost:8080/"
        },
        "id": "r54Ms6ZB3fJQ",
        "outputId": "73e0ab6d-6fd0-45f9-9abf-ae0d45ce35bd"
      },
      "source": [
        "sample = transactions.sample(1000)\n",
        "print(len(sample[sample['tr_type'].isin(tr_types[tr_types['tr_description'].str.contains('POS | АТМ')]['tr_type'])]) / len(sample))"
      ],
      "execution_count": null,
      "outputs": [
        {
          "output_type": "stream",
          "name": "stdout",
          "text": [
            "0.59\n"
          ]
        }
      ]
    },
    {
      "cell_type": "markdown",
      "metadata": {
        "id": "fiZBDIZt8JeS"
      },
      "source": [
        "## Задание 2 \n"
      ]
    },
    {
      "cell_type": "markdown",
      "metadata": {
        "id": "FFKeBUThOCrz"
      },
      "source": [
        "1. Для столбца tr_type датафрейма transactions посчитайте частоту встречаемости всех типов транзакций tr_type в transactions.\n",
        "2. Выведите топ-10 транзакций по частоте встречаемости (вывести для них tr_description тоже)."
      ]
    },
    {
      "cell_type": "code",
      "metadata": {
        "colab": {
          "base_uri": "https://localhost:8080/"
        },
        "id": "FFkIylPb75Cg",
        "outputId": "84e24fe4-3a66-416a-c83c-de9435bc046b"
      },
      "source": [
        "frequency = transactions['tr_type'].value_counts().head(10)\n",
        "dataframe2 = tr_types.set_index('tr_type').loc[frequency.index]\n",
        "dataframe1 = frequency.to_frame().join(dataframe2)\n",
        "dataframe1.rename({'tr_type': 'frequency'}, axis=1, inplace=True)\n",
        "print(dataframe1)"
      ],
      "execution_count": null,
      "outputs": [
        {
          "output_type": "stream",
          "name": "stdout",
          "text": [
            "      frequency                                     tr_description\n",
            "1010     231117                              Покупка. POS ТУ СБ РФ\n",
            "2010     151166              Выдача наличных в АТМ Сбербанк России\n",
            "7070     149006  Перевод на карту (с карты) через Мобильный бан...\n",
            "1110     137658                             Покупка. POS ТУ Россия\n",
            "1030     118975                     Оплата услуги. Банкоматы СБ РФ\n",
            "2370      49830  Списание с карты на карту по операции <перевод...\n",
            "7010      28972       Взнос наличных через АТМ (в своем тер.банке)\n",
            "7030      26078  Перевод на карту (с карты) через АТМ (в предел...\n",
            "7071      15781  Перевод на карту (с карты) через Мобильный бан...\n",
            "1100      15476                                Покупка. ТУ  Россия\n"
          ]
        }
      ]
    },
    {
      "cell_type": "markdown",
      "metadata": {
        "id": "mktm_JeA8JeX"
      },
      "source": [
        "## Задание 3\n",
        "1. В датафрейме transactions найдите клиента с максимальной суммой приходов на карту\n",
        "2. В датафрейме transactions найдите клиента с максимальной суммой расходов по карте\n",
        "3. Найдите модуль разницы для этих клиентов между суммой расходов и суммой приходов"
      ]
    },
    {
      "cell_type": "code",
      "metadata": {
        "colab": {
          "base_uri": "https://localhost:8080/",
          "height": 607
        },
        "id": "dnWX2SUD8Hvt",
        "outputId": "46d823aa-05c8-436a-f189-c12ba8a039e5"
      },
      "source": [
        "max = transactions[transactions['amount'] > 0].groupby('customer_id')[['amount']].sum().sort_values(by=['amount']).tail(1)\n",
        "min = transactions[transactions['amount'] < 0].groupby('customer_id')[['amount']].sum().sort_values(by=['amount']).head(1)\n",
        "print(max)\n",
        "print(min)\n",
        "print(abs(max.iloc[0]['amount'] - min.iloc[0]['amount']))\n",
        "\n",
        "import matplotlib.pyplot as plt\n",
        "\n",
        "client1 = transactions[transactions['customer_id'] == max.index[0]]\n",
        "client1['tr_day'] = client1.apply(lambda row: int(row['tr_datetime'].split(' ')[0]), axis=1)\n",
        "client1 = client1.groupby('tr_day')[['amount']].sum()\n",
        "start = 0\n",
        "for index, row in client1.iterrows():\n",
        "  start += row['amount']\n",
        "  row['amount'] = start\n",
        "min = client1['amount'].nsmallest(1)\n",
        "max = client1['amount'].nlargest(1)\n",
        "print(min)\n",
        "print(max)\n",
        "client1.plot()\n",
        "plt.scatter(min.index[0], min, c = 'deeppink')\n",
        "plt.scatter(max.index[0], max, c = 'deeppink')\n",
        "plt.axhline(y=min.iloc[0], c = 'deeppink', linestyle='--')\n",
        "plt.axhline(y=max.iloc[0], c = 'deeppink', linestyle='--')\n",
        "plt.ylim(-1e7, 2e7)\n",
        "plt.ticklabel_format(style = 'plain')\n",
        "plt.show()"
      ],
      "execution_count": null,
      "outputs": [
        {
          "output_type": "stream",
          "name": "stdout",
          "text": [
            "                   amount\n",
            "customer_id              \n",
            "70780820     1.248115e+09\n",
            "                   amount\n",
            "customer_id              \n",
            "70780820    -1.249952e+09\n",
            "2498067091.600018\n"
          ]
        },
        {
          "output_type": "stream",
          "name": "stderr",
          "text": [
            "/usr/local/lib/python3.7/dist-packages/ipykernel_launcher.py:10: SettingWithCopyWarning: \n",
            "A value is trying to be set on a copy of a slice from a DataFrame.\n",
            "Try using .loc[row_indexer,col_indexer] = value instead\n",
            "\n",
            "See the caveats in the documentation: https://pandas.pydata.org/pandas-docs/stable/user_guide/indexing.html#returning-a-view-versus-a-copy\n",
            "  # Remove the CWD from sys.path while we load stuff.\n"
          ]
        },
        {
          "output_type": "stream",
          "name": "stdout",
          "text": [
            "tr_day\n",
            "55   -2778938.34\n",
            "Name: amount, dtype: float64\n",
            "tr_day\n",
            "289    17891610.36\n",
            "Name: amount, dtype: float64\n"
          ]
        },
        {
          "output_type": "display_data",
          "data": {
            "image/png": "[encoded data removed]",
            "text/plain": [
              "<Figure size 432x288 with 1 Axes>"
            ]
          },
          "metadata": {
            "needs_background": "light"
          }
        }
      ]
    },
    {
      "cell_type": "markdown",
      "metadata": {
        "id": "BYrJ5b_E8Jee"
      },
      "source": [
        "## Задание 4\n",
        "1. Найдите среднее арифметическое и медиану по amount по всем типам транзакций из топ 10 из задания 2\n",
        "1. Найдите среднее арифметическое и медиану по amount по всем типам транзакций для клиентов из задания 3"
      ]
    },
    {
      "cell_type": "code",
      "metadata": {
        "colab": {
          "base_uri": "https://localhost:8080/"
        },
        "id": "dasdYDWFCnrZ",
        "outputId": "d594897a-aec8-4edd-a9f1-2489d1a1009e"
      },
      "source": [
        "task2 = frequency.head(10)\n",
        "for i in task2.index:\n",
        "  print(\"{}: mean = {}, median = {}\".format(i, transactions[transactions['tr_type'] == i]['amount'].mean(), transactions[transactions['tr_type'] == i]['amount'].median()))\n",
        "\n",
        "task3 = transactions[transactions['customer_id'] == max.index[0]]\n",
        "print(\"{}: mean = {}, median = {}\".format(max.index[0], task3['amount'].mean(), task3['amount'].median()))"
      ],
      "execution_count": null,
      "outputs": [
        {
          "output_type": "stream",
          "name": "stdout",
          "text": [
            "1010: mean = -19784.748639648507, median = -7411.52\n",
            "2010: mean = -136077.62932505234, median = -44918.32\n",
            "7070: mean = 65569.83170018934, median = 11319.42\n",
            "1110: mean = -32119.330370770458, median = -11207.57\n",
            "1030: mean = -5320.980221811316, median = -2245.92\n",
            "2370: mean = -205418.24903167944, median = -44918.32\n",
            "7010: mean = 276391.7895961331, median = 112295.79\n",
            "7030: mean = 86104.33290896451, median = 13951.52\n",
            "7071: mean = 66806.82662251407, median = 3593.47\n",
            "1100: mean = -44061.82726156657, median = -10188.259999999998\n",
            "70780820: mean = -20.694945765418275, median = 8803.99\n"
          ]
        }
      ]
    },
    {
      "cell_type": "markdown",
      "metadata": {
        "id": "BYXwM4l3QDBu"
      },
      "source": [
        "## Подготовка для заданий 5-8"
      ]
    },
    {
      "cell_type": "markdown",
      "metadata": {
        "id": "XWQzFeKcQHRe"
      },
      "source": [
        "*Из заданий 5-8 нужно выполнить минимум два любых*\n",
        "\n",
        "Соедините transactions с всеми остальными таблицами (tr_mcc_codes, tr_types, gender_train). Причём с gender_train необходимо смёрджиться с помощью left join, а с оставшимися датафреймами - через inner.\n",
        "После получения результата таблицы gender_train, tr_types, tr_mcc_codes можно удалить. В результате соединения датафреймов должно получиться 999584 строки."
      ]
    },
    {
      "cell_type": "code",
      "metadata": {
        "id": "sndJxjJ7QQf5",
        "colab": {
          "base_uri": "https://localhost:8080/"
        },
        "outputId": "1fb1e089-c3f4-4c25-833a-f8526532c519"
      },
      "source": [
        "transactions = pd.merge(transactions, gender_train, how='left')\n",
        "transactions = pd.merge(transactions, tr_mcc_codes, how='inner')\n",
        "transactions = pd.merge(transactions, tr_types, how='inner')\n",
        "transactions.shape"
      ],
      "execution_count": null,
      "outputs": [
        {
          "output_type": "execute_result",
          "data": {
            "text/plain": [
              "(999584, 9)"
            ]
          },
          "metadata": {},
          "execution_count": 46
        }
      ]
    },
    {
      "cell_type": "markdown",
      "metadata": {
        "id": "8vrFauJ8QgmT"
      },
      "source": [
        "## Задание 5"
      ]
    },
    {
      "cell_type": "markdown",
      "metadata": {
        "id": "rOjEQ5xyQfE_"
      },
      "source": [
        "1. Определите модуль разницы между средними тратами женщин и мужчин (трата - отрицательное значение amount).\n",
        "2. Определите модуль разницы между средними поступлениями у мужчин и женщин\n",
        "\n",
        "Обратите внимание, что для вычисления модуля разности точных знаний о том, \n",
        "какой класc относится к мужчинам, а какой - к женщинам, не требуется."
      ]
    },
    {
      "cell_type": "code",
      "metadata": {
        "colab": {
          "base_uri": "https://localhost:8080/"
        },
        "id": "nkzAmo3x-K99",
        "outputId": "20e2db71-2760-47e9-b940-5026d0b1aa98"
      },
      "source": [
        "print(abs(abs(transactions[(transactions['gender'] == 0) & (transactions['amount'] < 0)]['amount'].mean()) - abs(transactions[(transactions['gender'] == 1) & (transactions['amount'] < 0)]['amount'].mean())), \n",
        "      abs(abs(transactions[(transactions['gender'] == 0) & (transactions['amount'] > 0)]['amount'].mean()) - abs(transactions[(transactions['gender'] == 1) & (transactions['amount'] > 0)]['amount'].mean())))"
      ],
      "execution_count": null,
      "outputs": [
        {
          "output_type": "stream",
          "name": "stdout",
          "text": [
            "32718.05492021877 63366.57104801515\n"
          ]
        }
      ]
    },
    {
      "cell_type": "markdown",
      "metadata": {
        "id": "DSHFLbepQ7G1"
      },
      "source": [
        "## Задание 6"
      ]
    },
    {
      "cell_type": "markdown",
      "metadata": {
        "id": "2EF1490bQ-17"
      },
      "source": [
        "1. По всем типам транзакций рассчитайте максимальную сумму прихода на карту (из строго положительных сумм по столбцу amount) отдельно для мужчин и женщин (назовите ее \"max_income\"). Оставьте по 10 типов транзакций для мужчин и для женщин, наименьших среди всех типов транзакций по полученным значениям \"max_income\". \n",
        "2. Выделите среди них те типы транзакций, которые встречаются одновременно и у мужчин, и у женщин"
      ]
    },
    {
      "cell_type": "code",
      "metadata": {
        "colab": {
          "base_uri": "https://localhost:8080/"
        },
        "id": "RyOGkYfhBREq",
        "outputId": "4f4485e6-7c5f-4f0b-bd06-c1ca620a8dab"
      },
      "source": [
        "max_income0 = transactions[(transactions['amount'] > 0) & (transactions['gender'] == 0)].groupby('tr_type')[['amount']].max()['amount'].nsmallest(10).to_frame()\n",
        "max_income1 = transactions[(transactions['amount'] > 0) & (transactions['gender'] == 1)].groupby('tr_type')[['amount']].max()['amount'].nsmallest(10).to_frame()\n",
        "print(set(max_income0.index).intersection(set(max_income1.index)))"
      ],
      "execution_count": null,
      "outputs": [
        {
          "output_type": "stream",
          "name": "stdout",
          "text": [
            "{2370, 4110, 1010, 2010, 2110}\n"
          ]
        }
      ]
    },
    {
      "cell_type": "markdown",
      "metadata": {
        "id": "W-LaVwRdR3UB"
      },
      "source": [
        "## Задание 7"
      ]
    },
    {
      "cell_type": "markdown",
      "metadata": {
        "id": "rhI4NOciR7e0"
      },
      "source": [
        "1. Найдите суммы затрат по каждой категории (mcc) для мужчин и для женщин. \n",
        "2. Найдите топ 10 категорий с самыми большими относительными модулями разности в тратах для разных полов (в ответе должны присутствовать описания mcc кодов)."
      ]
    },
    {
      "cell_type": "code",
      "metadata": {
        "colab": {
          "base_uri": "https://localhost:8080/"
        },
        "id": "SKbx3ahvDDA4",
        "outputId": "22019cdd-c63a-4a81-90ab-e25eeae6a334"
      },
      "source": [
        "sum = transactions[(transactions['gender'] == 0) & (transactions['amount'] < 0)].groupby('mcc_code')[['amount']].sum().append(abs(transactions[(transactions['gender'] == 1) & (transactions['amount'] < 0)].groupby('mcc_code')[['amount']].sum()))\n",
        "sum = sum.groupby('mcc_code')[['amount']].sum()\n",
        "sum = abs(sum)\n",
        "sum = pd.merge(sum, tr_mcc_codes, left_index=True, right_on='mcc_code')\n",
        "print(sum.nlargest(5, 'amount'))"
      ],
      "execution_count": null,
      "outputs": [
        {
          "output_type": "stream",
          "name": "stdout",
          "text": [
            "           amount  mcc_code                                    mcc_description\n",
            "124  3.085862e+09      6011  Финансовые институты — снятие наличности автом...\n",
            "22   2.499153e+09      4829                                  Денежные переводы\n",
            "123  2.208580e+08      6010   Финансовые институты — снятие наличности вручную\n",
            "65   1.554326e+08      5541                            Станции техобслуживания\n",
            "62   7.352877e+07      5511  Легковой и грузовой транспорт — продажа, серви...\n"
          ]
        }
      ]
    },
    {
      "cell_type": "markdown",
      "metadata": {
        "id": "aGaPkQkVSvl8"
      },
      "source": [
        "## Задание 8"
      ]
    },
    {
      "cell_type": "markdown",
      "metadata": {
        "id": "T7Ox1qAXTHQl"
      },
      "source": [
        "1. Из поля tr_datetime выделите час tr_hour, в который произошла транзакция, как первые 2 цифры до \":\". (\\**)\n",
        "2. Посчитайте количество транзакций с amount<0 в ночное время для мужчин и женщин. Ночное время - это примерно 00-06 часов. "
      ]
    },
    {
      "cell_type": "code",
      "metadata": {
        "colab": {
          "base_uri": "https://localhost:8080/"
        },
        "id": "Ba1qZjMWC_Xy",
        "outputId": "f4bf955d-2b48-4924-b38a-b0142538ee33"
      },
      "source": [
        "transactions['tr_hour'] = transactions.apply(lambda row: str(row['tr_datetime'].split(':')[0].split(' ')[1]), axis=1)\n",
        "print(transactions[(transactions['amount'] < 0) & ('00' <= transactions['tr_hour']) & ('06' >= transactions['tr_hour'])].groupby('gender').size())"
      ],
      "execution_count": null,
      "outputs": [
        {
          "output_type": "stream",
          "name": "stdout",
          "text": [
            "gender\n",
            "0.0    43510\n",
            "1.0    46694\n",
            "dtype: int64\n"
          ]
        }
      ]
    }
  ]
}